{
 "cells": [
  {
   "cell_type": "code",
   "execution_count": 1,
   "metadata": {},
   "outputs": [],
   "source": [
    "import requests\n",
    "import json\n",
    "import time\n",
    "from datetime import datetime\n",
    "\n",
    "import sys\n",
    "import pandas as pd"
   ]
  },
  {
   "cell_type": "code",
   "execution_count": 2,
   "metadata": {},
   "outputs": [],
   "source": [
    "def check_eqkmsg(mykey, endpoint, tday):\n",
    "    params = {'ServiceKey':mykey, 'fromTmFc':tday, 'toTmFc':tday,\n",
    "            'dataType':'json', 'pageNo':1, 'numOfRows':10}\n",
    "    try:\n",
    "        r = requests.get(endpoint+'/'+'getEqkMsg', params=params)\n",
    "    except:\n",
    "        print('기상청 API 호출에 실패했습니다!')\n",
    "        sys.exit(1)\n",
    "\n",
    "    if r.status_code != 200:\n",
    "        if r.status_code == 401:\n",
    "            r = requests.get(endpoint+'/'+'getEqkMsg', params=params)\n",
    "        elif r.status_code == 429:\n",
    "            time.sleep(1)\n",
    "            r = requests.get(endpoint+'/'+'getEqkMsg', params=params)\n",
    "        else:\n",
    "            print('기상청 API 호출에러 발생!:',r.status_code)\n",
    "\n",
    "    res = json.loads(r.text).get('response')\n",
    "    rcode = res.get('header')['resultCode']\n",
    "    if rcode == '00':\n",
    "        rescount = res.get('body')['totalCount']\n",
    "        rpage = (rescount//10)+1\n",
    "    elif rcode == '03':\n",
    "        print('오늘의 지진 통보문이 없습니다. ({})'.format(rcode))\n",
    "        sys.exit(1)\n",
    "    else:\n",
    "        return res, rpage"
   ]
  },
  {
   "cell_type": "code",
   "execution_count": 3,
   "metadata": {},
   "outputs": [],
   "source": [
    "def get_eqkmsg(mykey, endpoint, tday, npage):\n",
    "    params = {'ServiceKey':mykey, 'fromTmFc':tday, 'toTmFc':tday,\n",
    "            'dataType':'json', 'pageNo':npage, 'numOfRows':10}\n",
    "    try:\n",
    "        r = requests.get(endpoint+'/'+'getEqkMsg', params=params)\n",
    "    except:\n",
    "        print('기상청 API 호출에 실패했습니다!')\n",
    "        sys.exit(1)\n",
    "\n",
    "    if r.status_code != 200:\n",
    "        if r.status_code == 401:\n",
    "            r = requests.get(endpoint+'/'+'getEqkMsg', params=params)\n",
    "        elif r.status_code == 429:\n",
    "            time.sleep(1)\n",
    "            r = requests.get(endpoint+'/'+'getEqkMsg', params=params)\n",
    "        else:\n",
    "            print('기상청 API 호출에러 발생!:',r.status_code)\n",
    "\n",
    "    try:\n",
    "        res = json.loads(r.text).get('response')\n",
    "    except:\n",
    "        print('fail')\n",
    "        res=None\n",
    "    return res\n"
   ]
  },
  {
   "cell_type": "code",
   "execution_count": 4,
   "metadata": {},
   "outputs": [],
   "source": [
    "def get_eqklist(tday, data):\n",
    "    raw = data\n",
    "    eqkdata = raw.get('body').get('items')['item']\n",
    "    eqk_dict = {}\n",
    "    eqk_list = []\n",
    "    for i in range(0, len(eqkdata)):\n",
    "        pick = eqkdata[i]\n",
    "        eqk_dict['id'] = tday+'-'+str(raw.get('body')['pageNo'])+str(i)\n",
    "        eqk_dict['day'] = str(pick.get('tmEqk'))[0:7]\n",
    "        eqk_dict['eqkt'] = str(pick.get('tmEqk'))[8:14]\n",
    "        eqk_dict['fct'] = str(pick.get('tmFc'))[8:12]\n",
    "        eqk_dict['mt'] = pick.get('mt')\n",
    "        eqk_dict['loc'] = pick.get('loc')\n",
    "        eqk_dict['lat'] = pick.get('lat')\n",
    "        eqk_dict['lon'] = pick.get('lon')\n",
    "        eqk_dict['mapURL'] = pick.get('img')\n",
    "        eqk_dict['fctype'] = pick.get('fcTp')\n",
    "        eqk_list.append(eqk_dict)\n",
    "    time.sleep(1)\n",
    "    pdcols = eqk_list[0].keys()\n",
    "    eqk_df = pd.DataFrame(columns=pdcols, data=[eqk_list[i].values() for i in range(0, len(eqk_list))])\n",
    "    return eqk_df"
   ]
  },
  {
   "cell_type": "code",
   "execution_count": 5,
   "metadata": {},
   "outputs": [],
   "source": [
    "def main():\n",
    "    mykey = 'hLgHjx4SRbAp3W6wWAgqvPqZB0dDxQlzAPhuLVz1nCYJ9WUW//16Hzz6vy/0n7rE4kB1kJ3/Ia7vxld3oid6IA=='\n",
    "    endpoint = 'http://apis.data.go.kr/1360000/EqkInfoService'\n",
    "    today = str(datetime.today())[0:10].split('-')\n",
    "    tday =  today[0]+today[1]+today[2]\n",
    "    npage = 1\n",
    "    res, rpage = check_eqkmsg(mykey, endpoint, tday)\n",
    "    \n",
    "    if rpage != 1:\n",
    "        eqkdf = pd.DataFrame()\n",
    "        bind = get_eqklist(tday, res)\n",
    "        eqkdf = eqkdf.append(bind, ignore_index=True)\n",
    "        while npage < rpage:\n",
    "            time.sleep(1)\n",
    "            npage = npage +1\n",
    "            res = get_eqkmsg(mykey, endpoint, tday, npage)\n",
    "            bind = get_eqklist(tday, res)\n",
    "            eqkdf = eqkdf.append(bind, ignore_index=True)\n",
    "    else:\n",
    "        eqkdf = get_eqklist(tday, res)\n",
    "    eqkdf.to_csv(\"./csv/{}.csv\".format(tday), encoding='utf-8')\n",
    "    return eqkdf\n",
    "    "
   ]
  },
  {
   "cell_type": "code",
   "execution_count": 6,
   "metadata": {},
   "outputs": [
    {
     "name": "stdout",
     "output_type": "stream",
     "text": [
      "오늘의 지진 통보문이 없습니다. (03)\n"
     ]
    },
    {
     "ename": "SystemExit",
     "evalue": "1",
     "output_type": "error",
     "traceback": [
      "An exception has occurred, use %tb to see the full traceback.\n",
      "\u001b[1;31mSystemExit\u001b[0m\u001b[1;31m:\u001b[0m 1\n"
     ]
    },
    {
     "name": "stderr",
     "output_type": "stream",
     "text": [
      "C:\\ProgramData\\Anaconda3\\lib\\site-packages\\IPython\\core\\interactiveshell.py:3426: UserWarning: To exit: use 'exit', 'quit', or Ctrl-D.\n",
      "  warn(\"To exit: use 'exit', 'quit', or Ctrl-D.\", stacklevel=1)\n"
     ]
    }
   ],
   "source": [
    "if __name__ == '__main__':\n",
    "    main()"
   ]
  }
 ],
 "metadata": {
  "interpreter": {
   "hash": "b3ba2566441a7c06988d0923437866b63cedc61552a5af99d1f4fb67d367b25f"
  },
  "kernelspec": {
   "display_name": "Python 3.8.5 ('base')",
   "language": "python",
   "name": "python3"
  },
  "language_info": {
   "codemirror_mode": {
    "name": "ipython",
    "version": 3
   },
   "file_extension": ".py",
   "mimetype": "text/x-python",
   "name": "python",
   "nbconvert_exporter": "python",
   "pygments_lexer": "ipython3",
   "version": "3.8.5"
  },
  "orig_nbformat": 4
 },
 "nbformat": 4,
 "nbformat_minor": 2
}
