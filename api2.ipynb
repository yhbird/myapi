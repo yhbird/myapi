{
 "cells": [
  {
   "cell_type": "code",
   "execution_count": 1,
   "metadata": {},
   "outputs": [],
   "source": [
    "import os\n",
    "import sys\n",
    "import urllib\n",
    "import datetime\n",
    "import time\n",
    "import json\n",
    "import pandas as pd"
   ]
  },
  {
   "cell_type": "code",
   "execution_count": 2,
   "metadata": {},
   "outputs": [],
   "source": [
    "mykey = 'hLgHjx4SRbAp3W6wWAgqvPqZB0dDxQlzAPhuLVz1nCYJ9WUW//16Hzz6vy/0n7rE4kB1kJ3/Ia7vxld3oid6IA=='"
   ]
  },
  {
   "cell_type": "code",
   "execution_count": null,
   "metadata": {},
   "outputs": [
    {
     "name": "stdout",
     "output_type": "stream",
     "text": [
      "<< 국내 입국한 외국인의 통계 데이터를 수집합니다. >>\n",
      "국가 코드를 입력하세요(중국 : 112 / 일본 : 130 / 미국 : 275) : 1123\n"
     ]
    }
   ],
   "source": [
    "def main() :\n",
    "  result = []\n",
    "  natName=''\n",
    "  print(\"<< 국내 입국한 외국인의 통계 데이터를 수집합니다. >>\")\n",
    "  nat_cd = input('국가 코드를 입력하세요(중국 : 112 / 일본 : 130 / 미국 : 275) : ')\n",
    "  nStartYear = int(input('데이터를 몇 년부터 수집할까요? : '))\n",
    "  nEndYear = int(input('데이터를 몇 년까지 수집할까요? : '))\n",
    "  ed_cd = \"E\"\n",
    "\n",
    "  result, natName, ed, dataEND = getTourismStatsService(nat_cd, ed_cd, nStartYear, nEndYear)\n",
    "\n",
    "  if (natName=='') : \n",
    "    print('데이터가 전달되지 않았습니다. 공공데이터포털의 서비스 상태를 확인하기 바랍니다.')\n",
    "  else :\n",
    "    columns = [\"입국자국가\", \"국가코드\", \"입국연월\", \"입국자 수\"]\n",
    "    result_df = pd.DataFrame(result, columns = columns)\n",
    "    result_df.to_csv('./%s_%s_%d_%s.csv' % (natName, ed, nStartYear, dataEND), index=False, encoding = 'cp949')\n",
    "\n",
    "def getTourismStatsService(nat_cd, ed_cd, nStartYear, nEndYear):\n",
    "    result = []\n",
    "    natName=''\n",
    "    dataEND = \"{0}{1:0>2}\".format(str(nEndYear), str(12))\n",
    "    isDataEnd = 0\n",
    "    for year in range(nStartYear, nEndYear+1):\n",
    "        for month in range(1, 13):\n",
    "            if isDataEnd == 1:\n",
    "                break\n",
    "            yyyymm = \"{0}{1:0>2}\".format(str(year), str(month))\n",
    "            jsonData = getTourismStatsItem(yyyymm, nat_cd, ed_cd)\n",
    "            if jsonData['response']['header']['resultMsg'] == 'OK':\n",
    "                if jsonData['response']['body']['items'] == '':\n",
    "                    isDataEnd = 1\n",
    "                    dataEND = \"{0}{1:0>2}\".format(str(year), str(month-1))\n",
    "                    print(\"데이터 없음.... \\n 제공되는 통계 데이터는 %s년 %s월까지입니다.\" %(str(year), str(month-1)))\n",
    "                    break\n",
    "                print(json.dumps(jsonData, indent=4, sort_keys=True, ensure_ascii=False))\n",
    "                natName = jsonData['response']['body']['items']['item']['natKorNm']\n",
    "                natName = natName.replace('','')\n",
    "                num = jsonData['response']['body']['itmes']['item']['num']\n",
    "                ed = jsonData['response']['body']['itmes']['item']['ed']\n",
    "                print('[%s_%s : %s]' %(natName, yyyymm, num))\n",
    "                print('------------------------------------------------------------------')\n",
    "    return(result, natName, ed, dataEND)\n",
    "\n",
    "def getTourismStatsItem(yyyymm, national_code, ed_cd):\n",
    "  service_url = \"http://openapi.tour.go.kr/openapi/service/EdrcntTourismStatsService/getEdrcntTourismStatsList\"\n",
    "  parameters = \"?_type=json&serviceKey=\" + mykey\n",
    "  parameters += \"&YM\" + yyyymm\n",
    "  parameters += \"&NEA_CD\" + national_code\n",
    "  parameters += \"&ED_CD\" + ed_cd\n",
    "  url = service_url + parameters\n",
    "\n",
    "  retData = getRequestUrl(url)\n",
    "\n",
    "  if (retData == None):\n",
    "    return None\n",
    "  else:\n",
    "    return json.loads(retData)\n",
    "\n",
    "def getRequestUrl(url) :\n",
    "  req = urllib.request.Request(url)\n",
    "  try :\n",
    "    response = urllib.request.urlopen(req)\n",
    "    if response.getcode() == 200 :\n",
    "      print (\"[%s] Url Request Succese\" % datetime.datetime.now())\n",
    "      return response.read().decode(\"utf-8\")\n",
    "  except Exception as e :\n",
    "    print(e)\n",
    "    print(\"[%s] Error for URL : %s\" % (datetime.datetime.now(), url))\n",
    "    return None    \n",
    "\n",
    "\n",
    "if __name__ == \"__main__\":\n",
    "\t  main()"
   ]
  },
  {
   "cell_type": "code",
   "execution_count": null,
   "metadata": {},
   "outputs": [],
   "source": [
    "asd"
   ]
  }
 ],
 "metadata": {
  "interpreter": {
   "hash": "b3ba2566441a7c06988d0923437866b63cedc61552a5af99d1f4fb67d367b25f"
  },
  "kernelspec": {
   "display_name": "Python 3",
   "language": "python",
   "name": "python3"
  },
  "language_info": {
   "codemirror_mode": {
    "name": "ipython",
    "version": 3
   },
   "file_extension": ".py",
   "mimetype": "text/x-python",
   "name": "python",
   "nbconvert_exporter": "python",
   "pygments_lexer": "ipython3",
   "version": "3.8.5"
  }
 },
 "nbformat": 4,
 "nbformat_minor": 2
}
