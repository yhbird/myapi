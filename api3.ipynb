{
 "cells": [
  {
   "cell_type": "code",
   "execution_count": 4,
   "metadata": {},
   "outputs": [],
   "source": [
    "import requests\n",
    "from bs4 import BeautifulSoup\n",
    "from xml.etree.ElementTree import parse\n",
    "import time\n",
    "import json\n",
    "from datetime import datetime\n",
    "from datetime import timedelta\n",
    "\n",
    "import sys\n",
    "import os"
   ]
  },
  {
   "cell_type": "code",
   "execution_count": 2,
   "metadata": {},
   "outputs": [
    {
     "data": {
      "text/plain": [
       "200"
      ]
     },
     "execution_count": 2,
     "metadata": {},
     "output_type": "execute_result"
    }
   ],
   "source": [
    "mykey = 'hLgHjx4SRbAp3W6wWAgqvPqZB0dDxQlzAPhuLVz1nCYJ9WUW//16Hzz6vy/0n7rE4kB1kJ3/Ia7vxld3oid6IA=='\n",
    "endpoint = 'http://apis.data.go.kr/B500001/rwis/waterQuality/list'\n",
    "today = str(datetime.today())[0:10]\n",
    "params = {'stDt':'2022-04-26', 'edDt':'2022-04-26', 'stTm':'00', 'edTm':'24', 'liIndDiv':'1',\n",
    "        'numOfRows':'10', 'pageNo':'1', 'dataType':'json', 'serviceKey':mykey}\n",
    "\n",
    "r = requests.get(endpoint, params=params)\n",
    "r.status_code"
   ]
  },
  {
   "cell_type": "code",
   "execution_count": 26,
   "metadata": {},
   "outputs": [
    {
     "data": {
      "text/plain": [
       "'0.8593'"
      ]
     },
     "execution_count": 26,
     "metadata": {},
     "output_type": "execute_result"
    }
   ],
   "source": [
    "BeautifulSoup(r.text,'lxml-xml').find_all('item')[0].find('fcltyAddr')\n",
    "BeautifulSoup(r.text,'lxml-xml').find_all('item')[0].find('clVal').get_text()"
   ]
  },
  {
   "cell_type": "code",
   "execution_count": 19,
   "metadata": {},
   "outputs": [
    {
     "data": {
      "text/plain": [
       "'<?xml version=\"1.0\" encoding=\"UTF-8\" standalone=\"yes\"?><response><header><resultCode>00</resultCode><resultMsg>NORMAL SERVICE.</resultMsg></header><body><items><item><clUnit>mg/L</clUnit><clVal>0.8593</clVal><fcltyAddr>경기도 성남시 수정구</fcltyAddr><fcltyMngNm>성남정수장</fcltyMngNm><fcltyMngNo>4113112313</fcltyMngNo><liIndDivName>생활정수</liIndDivName><no>888</no><occrrncDt>2022042624</occrrncDt><phUnit>pH</phUnit><phVal>7.5827</phVal><tbUnit>NTU</tbUnit><tbVal>0.0603</tbVal></item><item><clUnit>mg/L</clUnit><clVal>1.1780</clVal><fcltyAddr>경기도 안산시 상록구</fcltyAddr><fcltyMngNm>반월정수장</fcltyMngNm><fcltyMngNo>4127112311</fcltyMngNo><liIndDivName>생활정수</liIndDivName><no>887</no><occrrncDt>2022042624</occrrncDt><phUnit>pH</phUnit><phVal>7.4919</phVal><tbUnit>NTU</tbUnit><tbVal>0.0528</tbVal></item><item><clUnit>mg/L</clUnit><clVal>0.8276</clVal><fcltyAddr>경기도 안산시 선부2동</fcltyAddr><fcltyMngNm>시흥정수장</fcltyMngNm><fcltyMngNo>4127312314</fcltyMngNo><liIndDivName>생활정수</liIndDivName><no>886</no><occrrncDt>2022042624</occrrncDt><phUnit>pH</phUnit><phVal>7.6418</phVal><tbUnit>NTU</tbUnit><tbVal>0.0606</tbVal></item><item><clUnit>mg/L</clUnit><clVal>0.9449</clVal><fcltyAddr>경기도 고양시 덕양구</fcltyAddr><fcltyMngNm>일산정수장</fcltyMngNm><fcltyMngNo>4128112315</fcltyMngNo><liIndDivName>생활정수</liIndDivName><no>885</no><occrrncDt>2022042624</occrrncDt><phUnit>pH</phUnit><phVal>7.5443</phVal><tbUnit>NTU</tbUnit><tbVal>0.0708</tbVal></item><item><clUnit>mg/L</clUnit><clVal>0.7872</clVal><fcltyAddr>경기도 고양시 일산동구</fcltyAddr><fcltyMngNm>고양정수장</fcltyMngNm><fcltyMngNo>4128512319</fcltyMngNo><liIndDivName>생활정수</liIndDivName><no>884</no><occrrncDt>2022042624</occrrncDt><phUnit>pH</phUnit><phVal>7.5298</phVal><tbUnit>NTU</tbUnit><tbVal>0.0676</tbVal></item><item><clUnit>mg/L</clUnit><clVal>0.9036</clVal><fcltyAddr>경기도 남양주시 와부읍</fcltyAddr><fcltyMngNm>와부정수장</fcltyMngNm><fcltyMngNo>4136012312</fcltyMngNo><liIndDivName>생활정수</liIndDivName><no>883</no><occrrncDt>2022042624</occrrncDt><phUnit>pH</phUnit><phVal>7.1773</phVal><tbUnit>NTU</tbUnit><tbVal>0.0392</tbVal></item><item><clUnit>mg/L</clUnit><clVal>0.8576</clVal><fcltyAddr>경기도 남양주시 와부읍</fcltyAddr><fcltyMngNm>덕소정수장</fcltyMngNm><fcltyMngNo>4136012317</fcltyMngNo><liIndDivName>생활정수</liIndDivName><no>882</no><occrrncDt>2022042624</occrrncDt><phUnit>pH</phUnit><phVal>7.3554</phVal><tbUnit>NTU</tbUnit><tbVal>0.0581</tbVal></item><item><clUnit>mg/L</clUnit><clVal>0.8599</clVal><fcltyAddr>경기도 용인시 상현동</fcltyAddr><fcltyMngNm>수지정수장</fcltyMngNm><fcltyMngNo>4146512316</fcltyMngNo><liIndDivName>생활정수</liIndDivName><no>881</no><occrrncDt>2022042624</occrrncDt><phUnit>pH</phUnit><phVal>7.5434</phVal><tbUnit>NTU</tbUnit><tbVal>0.0608</tbVal></item><item><clUnit>mg/L</clUnit><clVal>0.8956</clVal><fcltyAddr>강원도 태백시 황지동</fcltyAddr><fcltyMngNm>황지정수장</fcltyMngNm><fcltyMngNo>4219012371</fcltyMngNo><liIndDivName>생활정수</liIndDivName><no>880</no><occrrncDt>2022042624</occrrncDt><phUnit>pH</phUnit><phVal>7.1803</phVal><tbUnit>NTU</tbUnit><tbVal>0.0728</tbVal></item><item><clUnit>mg/L</clUnit><clVal>0.6104</clVal><fcltyAddr>강원도 횡성군 횡성읍</fcltyAddr><fcltyMngNm>송전정수장</fcltyMngNm><fcltyMngNo>4273012356</fcltyMngNo><liIndDivName>생활정수</liIndDivName><no>879</no><occrrncDt>2022042624</occrrncDt><phUnit>pH</phUnit><phVal>7.6877</phVal><tbUnit>NTU</tbUnit><tbVal>0.0355</tbVal></item></items><numOfRows>10</numOfRows><pageNo>1</pageNo><totalCount>888</totalCount></body></response>'"
      ]
     },
     "execution_count": 19,
     "metadata": {},
     "output_type": "execute_result"
    }
   ],
   "source": [
    "r.text"
   ]
  }
 ],
 "metadata": {
  "interpreter": {
   "hash": "b3ba2566441a7c06988d0923437866b63cedc61552a5af99d1f4fb67d367b25f"
  },
  "kernelspec": {
   "display_name": "Python 3.8.5 ('base')",
   "language": "python",
   "name": "python3"
  },
  "language_info": {
   "codemirror_mode": {
    "name": "ipython",
    "version": 3
   },
   "file_extension": ".py",
   "mimetype": "text/x-python",
   "name": "python",
   "nbconvert_exporter": "python",
   "pygments_lexer": "ipython3",
   "version": "3.8.5"
  },
  "orig_nbformat": 4
 },
 "nbformat": 4,
 "nbformat_minor": 2
}
