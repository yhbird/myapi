{
 "cells": [
  {
   "cell_type": "code",
   "execution_count": 1,
   "metadata": {},
   "outputs": [],
   "source": [
    "import requests\n",
    "import json\n",
    "import time\n",
    "from datetime import datetime\n",
    "import pymysql\n",
    "\n",
    "import sys\n",
    "import pandas as pd"
   ]
  },
  {
   "cell_type": "code",
   "execution_count": 2,
   "metadata": {},
   "outputs": [],
   "source": [
    "def check_eqkmsg(mykey, endpoint, stday):\n",
    "    params = {'ServiceKey':mykey, 'fromTmFc':stday, 'toTmFc':stday,\n",
    "            'dataType':'json', 'pageNo':1, 'numOfRows':10}\n",
    "    try:\n",
    "        r = requests.get(endpoint+'/'+'getEqkMsg', params=params)\n",
    "    except:\n",
    "        print('기상청 API 호출에 실패했습니다!')\n",
    "        sys.exit(1)\n",
    "\n",
    "    if r.status_code != 200:\n",
    "        if r.status_code == 401:\n",
    "            r = requests.get(endpoint+'/'+'getEqkMsg', params=params)\n",
    "        elif r.status_code == 429:\n",
    "            time.sleep(1)\n",
    "            r = requests.get(endpoint+'/'+'getEqkMsg', params=params)\n",
    "        else:\n",
    "            print('기상청 API 호출에러 발생!:',r.status_code)\n",
    "\n",
    "    res = json.loads(r.text).get('response')\n",
    "    rcode = res.get('header')['resultCode']\n",
    "    if rcode == '00':\n",
    "        rescount = res.get('body')['totalCount']\n",
    "        rpage = (rescount//10)+1\n",
    "    elif rcode == '03':\n",
    "        print('오늘의 지진 통보문이 없습니다. ({})'.format(rcode))\n",
    "        sys.exit(1)\n",
    "    else:\n",
    "        return res, rpage"
   ]
  },
  {
   "cell_type": "code",
   "execution_count": 3,
   "metadata": {},
   "outputs": [],
   "source": [
    "def get_eqkmsg(mykey, endpoint, stday, npage):\n",
    "    params = {'ServiceKey':mykey, 'fromTmFc':stday, 'toTmFc':stday,\n",
    "            'dataType':'json', 'pageNo':str(npage), 'numOfRows':10}\n",
    "    try:\n",
    "        r = requests.get(endpoint+'/'+'getEqkMsg', params=params)\n",
    "    except:\n",
    "        print('기상청 API 호출에 실패했습니다!')\n",
    "        sys.exit(1)\n",
    "\n",
    "    if r.status_code != 200:\n",
    "        if r.status_code == 401:\n",
    "            r = requests.get(endpoint+'/'+'getEqkMsg', params=params)\n",
    "        elif r.status_code == 429:\n",
    "            time.sleep(1)\n",
    "            r = requests.get(endpoint+'/'+'getEqkMsg', params=params)\n",
    "        else:\n",
    "            print('기상청 API 호출에러 발생!:',r.status_code)\n",
    "\n",
    "    try:\n",
    "        res = json.loads(r.text).get('response')\n",
    "    except:\n",
    "        print('fail')\n",
    "        res=None\n",
    "    return res\n"
   ]
  },
  {
   "cell_type": "code",
   "execution_count": 4,
   "metadata": {},
   "outputs": [],
   "source": [
    "def get_eqklist(stday, data):\n",
    "    raw = data\n",
    "    eqk_data = raw.get('body').get('items')['item']\n",
    "    eqk_list = []\n",
    "    for i in range(0, len(eqk_data)):\n",
    "        eqk_dict = {}\n",
    "        pick = eqk_data[i]\n",
    "        eqk_dict['id'] = stday+'-'+str(raw.get('body')['pageNo'])+str(i)\n",
    "        eqk_dict['day'] = str(pick.get('tmEqk'))[0:8]\n",
    "        eqk_dict['eqkt'] = str(pick.get('tmEqk'))[8:14]\n",
    "        eqk_dict['fct'] = str(pick.get('tmFc'))[8:12]\n",
    "        eqk_dict['mt'] = pick.get('mt')\n",
    "        eqk_dict['loc'] = pick.get('loc')\n",
    "        eqk_dict['lat'] = pick.get('lat')\n",
    "        eqk_dict['lon'] = pick.get('lon')\n",
    "        eqk_dict['mapURL'] = pick.get('img')\n",
    "        eqk_dict['fctype'] = pick.get('fcTp')\n",
    "        eqk_dict['depth'] = pick.get('dep')\n",
    "        eqk_list.append(eqk_dict)\n",
    "    time.sleep(1)\n",
    "    return eqk_list"
   ]
  },
  {
   "cell_type": "code",
   "execution_count": 41,
   "metadata": {},
   "outputs": [],
   "source": [
    "def insert_db(cursor, sql, data):\n",
    "    for i in range(0, len(data)):\n",
    "        eqkdata = data[i]\n",
    "        cursor.execute(sql, list(eqkdata.values())*2)"
   ]
  },
  {
   "cell_type": "code",
   "execution_count": 5,
   "metadata": {},
   "outputs": [],
   "source": [
    "def main():\n",
    "    host = 'db-1.crtxwdze1fvo.ap-northeast-2.rds.amazonaws.com'\n",
    "    port = 3306\n",
    "    user = 'blackbird1227'\n",
    "    db = 'api1'\n",
    "    pw = 'gksqls1227!'\n",
    "    conn = pymysql.connect(host=host, user=user, passwd=pw, db=db, port=port, use_unicode=True, charset='utf8')\n",
    "    table = 'dayeqkinfo'\n",
    "    cursor = conn.cursor()\n",
    "\n",
    "    mykey = 'hLgHjx4SRbAp3W6wWAgqvPqZB0dDxQlzAPhuLVz1nCYJ9WUW//16Hzz6vy/0n7rE4kB1kJ3/Ia7vxld3oid6IA=='\n",
    "    endpoint = 'http://apis.data.go.kr/1360000/EqkInfoService'\n",
    "    today = str(datetime.today())[0:10].split('-')\n",
    "    stday =  today[0]+today[1]+today[2]\n",
    "    npage = 1\n",
    "    res, rpage = check_eqkmsg(mykey, endpoint, stday)\n",
    "    \n",
    "    if rpage != 1:\n",
    "        eqk_list = get_eqklist(stday, res)\n",
    "        while npage < rpage:\n",
    "            time.sleep(1)\n",
    "            npage = npage +1\n",
    "            res = get_eqkmsg(mykey, endpoint, stday, npage)\n",
    "            bind = get_eqklist(stday, res)\n",
    "            eqk_list = eqk_list.append(bind)\n",
    "    else:\n",
    "        eqk_list = get_eqklist(stday, res)\n",
    "\n",
    "    col = ', '.join(eqk_list[0].keys())\n",
    "    p_holders = ', '.join(['%s']*len(eqk_list[0]))\n",
    "    k_holders = ', '.join([i+'=%s' for i in eqk_list[0].keys()])\n",
    "    sql = 'INSERT INTO {} ({}) VALUES ({}) ON DUPLICATE KEY UPDATE {}'.format(table, col, p_holders, k_holders)\n",
    "    insert_db(cursor, sql, eqk_list)\n",
    "    cursor.fetchall()\n",
    "    conn.commit()\n",
    "    cursor.close()\n",
    "    "
   ]
  },
  {
   "cell_type": "code",
   "execution_count": 6,
   "metadata": {},
   "outputs": [
    {
     "name": "stdout",
     "output_type": "stream",
     "text": [
      "오늘의 지진 통보문이 없습니다. (03)\n"
     ]
    },
    {
     "ename": "SystemExit",
     "evalue": "1",
     "output_type": "error",
     "traceback": [
      "An exception has occurred, use %tb to see the full traceback.\n",
      "\u001b[1;31mSystemExit\u001b[0m\u001b[1;31m:\u001b[0m 1\n"
     ]
    },
    {
     "name": "stderr",
     "output_type": "stream",
     "text": [
      "C:\\ProgramData\\Anaconda3\\lib\\site-packages\\IPython\\core\\interactiveshell.py:3426: UserWarning: To exit: use 'exit', 'quit', or Ctrl-D.\n",
      "  warn(\"To exit: use 'exit', 'quit', or Ctrl-D.\", stacklevel=1)\n"
     ]
    }
   ],
   "source": [
    "if __name__ == '__main__':\n",
    "    main()"
   ]
  },
  {
   "cell_type": "code",
   "execution_count": 2,
   "metadata": {},
   "outputs": [
    {
     "data": {
      "text/plain": [
       "{'header': {'resultCode': '00', 'resultMsg': 'NORMAL_SERVICE'},\n",
       " 'body': {'dataType': 'JSON',\n",
       "  'items': {'item': [{'cnt': 1,\n",
       "     'fcTp': 2,\n",
       "     'img': 'http://www.weather.go.kr/repositary/image/eqk/img/eqk_img_2_20220428222113.png',\n",
       "     'inT': '',\n",
       "     'lat': -3.95,\n",
       "     'loc': '파푸아뉴기니 마당 북동쪽 170km 해역',\n",
       "     'lon': 146.66,\n",
       "     'mt': 6.0,\n",
       "     'rem': '국내영향없음. 위 자료는 미지질조사소(USGS) 분석결과임.',\n",
       "     'stnId': 108,\n",
       "     'tmEqk': 20220428222113,\n",
       "     'tmFc': 202204282249,\n",
       "     'tmSeq': 415,\n",
       "     'dep': 10}]},\n",
       "  'pageNo': 1,\n",
       "  'numOfRows': 10,\n",
       "  'totalCount': 1}}"
      ]
     },
     "execution_count": 2,
     "metadata": {},
     "output_type": "execute_result"
    }
   ],
   "source": [
    "mykey = 'hLgHjx4SRbAp3W6wWAgqvPqZB0dDxQlzAPhuLVz1nCYJ9WUW//16Hzz6vy/0n7rE4kB1kJ3/Ia7vxld3oid6IA=='\n",
    "endpoint = 'http://apis.data.go.kr/1360000/EqkInfoService'\n",
    "today = str(datetime.today())[0:10].split('-')\n",
    "stday =  today[0]+today[1]+today[2]\n",
    "npage = 1\n",
    "params = {'ServiceKey':mykey, 'fromTmFc':'20220427', 'toTmFc':stday,\n",
    "            'dataType':'json', 'pageNo':npage, 'numOfRows':10}\n",
    "r = requests.get(endpoint+'/'+'getEqkMsg', params=params)\n",
    "raw = json.loads(r.text).get('response')\n",
    "raw"
   ]
  },
  {
   "cell_type": "code",
   "execution_count": 6,
   "metadata": {},
   "outputs": [
    {
     "data": {
      "text/plain": [
       "[{'id': '20220428-00',\n",
       "  'day': '20220428',\n",
       "  'eqkt': '222113',\n",
       "  'fct': '2249',\n",
       "  'mt': 6.0,\n",
       "  'loc': '파푸아뉴기니 마당 북동쪽 170km 해역',\n",
       "  'lat': -3.95,\n",
       "  'lon': 146.66,\n",
       "  'mapURL': 'http://www.weather.go.kr/repositary/image/eqk/img/eqk_img_2_20220428222113.png',\n",
       "  'fctype': 2,\n",
       "  'depth': 10}]"
      ]
     },
     "execution_count": 6,
     "metadata": {},
     "output_type": "execute_result"
    }
   ],
   "source": [
    "eqkdata = raw.get('body').get('items')['item']\n",
    "eqk_dict = {}\n",
    "eqk_list = []\n",
    "for i in range(0, len(eqkdata)):\n",
    "    pick = eqkdata[i]\n",
    "    eqk_dict['id'] = str(pick.get('tmEqk'))[0:8]+'-'+str((raw.get('body')['pageNo'])-1)+str(i)\n",
    "    eqk_dict['day'] = str(pick.get('tmEqk'))[0:8]\n",
    "    eqk_dict['eqkt'] = str(pick.get('tmEqk'))[8:14]\n",
    "    eqk_dict['fct'] = str(pick.get('tmFc'))[8:12]\n",
    "    eqk_dict['mt'] = pick.get('mt')\n",
    "    eqk_dict['loc'] = pick.get('loc')\n",
    "    eqk_dict['lat'] = pick.get('lat')\n",
    "    eqk_dict['lon'] = pick.get('lon')\n",
    "    eqk_dict['mapURL'] = pick.get('img')\n",
    "    eqk_dict['fctype'] = pick.get('fcTp')\n",
    "    eqk_dict['depth'] = pick.get('dep')\n",
    "    eqk_list.append(eqk_dict)\n",
    "time.sleep(1)\n",
    "eqk_list"
   ]
  },
  {
   "cell_type": "code",
   "execution_count": 7,
   "metadata": {},
   "outputs": [
    {
     "data": {
      "text/plain": [
       "()"
      ]
     },
     "execution_count": 7,
     "metadata": {},
     "output_type": "execute_result"
    }
   ],
   "source": [
    "host = 'db-1.crtxwdze1fvo.ap-northeast-2.rds.amazonaws.com'\n",
    "port = 3306\n",
    "user = 'blackbird1227'\n",
    "db = 'api1'\n",
    "pw = 'gksqls1227!'\n",
    "conn = pymysql.connect(host=host, user=user, passwd=pw, db=db, port=port, use_unicode=True, charset='utf8')\n",
    "table = 'dayeqkinfo'\n",
    "cursor = conn.cursor()\n",
    "\n",
    "col = ', '.join(eqk_list[0].keys())\n",
    "p_holders = ', '.join(['%s']*len(eqk_list[0]))\n",
    "k_holders = ', '.join([i+'=%s' for i in eqk_list[0].keys()])\n",
    "sql = 'INSERT INTO {} ({}) VALUES ({}) ON DUPLICATE KEY UPDATE {}'.format('dayeqkinfo', col, p_holders, k_holders)\n",
    "cursor.execute(sql, list(eqk_list[0].values())*2)\n",
    "cursor.fetchall()"
   ]
  },
  {
   "cell_type": "code",
   "execution_count": 8,
   "metadata": {},
   "outputs": [],
   "source": [
    "conn.commit()\n",
    "cursor.close()"
   ]
  }
 ],
 "metadata": {
  "interpreter": {
   "hash": "b3ba2566441a7c06988d0923437866b63cedc61552a5af99d1f4fb67d367b25f"
  },
  "kernelspec": {
   "display_name": "Python 3.8.5 ('base')",
   "language": "python",
   "name": "python3"
  },
  "language_info": {
   "codemirror_mode": {
    "name": "ipython",
    "version": 3
   },
   "file_extension": ".py",
   "mimetype": "text/x-python",
   "name": "python",
   "nbconvert_exporter": "python",
   "pygments_lexer": "ipython3",
   "version": "3.8.5"
  },
  "orig_nbformat": 4
 },
 "nbformat": 4,
 "nbformat_minor": 2
}
