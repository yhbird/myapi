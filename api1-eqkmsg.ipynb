{
 "cells": [
  {
   "cell_type": "code",
   "execution_count": 2,
   "metadata": {},
   "outputs": [],
   "source": [
    "import requests\n",
    "import json\n",
    "import time\n",
    "from datetime import datetime\n",
    "\n",
    "import sys\n",
    "import pymysql\n",
    "\n",
    "import pandas as pd\n",
    "import numpy as np"
   ]
  },
  {
   "cell_type": "code",
   "execution_count": 3,
   "metadata": {},
   "outputs": [],
   "source": [
    "def get_eqkmsg(npage, nrows=10):\n",
    "        endpoint = 'http://apis.data.go.kr/1360000/EqkInfoService'\n",
    "        mykey = 'hLgHjx4SRbAp3W6wWAgqvPqZB0dDxQlzAPhuLVz1nCYJ9WUW//16Hzz6vy/0n7rE4kB1kJ3/Ia7vxld3oid6IA=='\n",
    "        datatype = 'JSON'\n",
    "        params = {'ServiceKey':mykey, 'fromTmFc':eqkt, 'toTmFc':eqkt,\n",
    "                'dataType':datatype, 'pageNo':npage, 'numOfRows':nrows}\n",
    "        r = requests.get(endpoint+'/'+'getEqkMsg', params=params)\n",
    "        res = json.loads(r.text).get('response')\n",
    "        return res"
   ]
  },
  {
   "cell_type": "code",
   "execution_count": 4,
   "metadata": {},
   "outputs": [],
   "source": [
    "def eqkmsg_count(fromt=None, tot=None, npage=1, nrow=10, gettoday=False):\n",
    "    global eqkt, rescount, rpages, rrows\n",
    "\n",
    "    if type(fromt) == int:\n",
    "        fromt = str(fromt)\n",
    "    if type(tot) == int:\n",
    "        tot = str(tot)\n",
    "    \n",
    "    today = str(datetime.today())[0:10].split('-')\n",
    "    eqkt = today[0]+today[1]+today[2]\n",
    "    if gettoday:\n",
    "        fromt, tot = eqkt, eqkt\n",
    "        npage = str(int(npage))\n",
    "        nrow = str(int(nrow))\n",
    "    endpoint = 'http://apis.data.go.kr/1360000/EqkInfoService'\n",
    "    mykey = 'hLgHjx4SRbAp3W6wWAgqvPqZB0dDxQlzAPhuLVz1nCYJ9WUW//16Hzz6vy/0n7rE4kB1kJ3/Ia7vxld3oid6IA=='\n",
    "    datatype = 'JSON'\n",
    "\n",
    "    if gettoday:\n",
    "        print ('오늘의 지진 통보를 검색합니다.')\n",
    "        params = {'ServiceKey':mykey, 'fromTmFc':eqkt, 'toTmFc':eqkt,\n",
    "            'dataType':datatype, 'pageNo':npage, 'numOfRows':nrow}\n",
    "    else:\n",
    "        print ('조회기간: '+fromt[0:4]+'년'+fromt[4:6]+'월'+fromt[6:8]+'일 ~',tot[4:6]+'월'+tot[6:8]+'일')\n",
    "        params = {'ServiceKey':mykey, 'fromTmFc':fromt, 'toTmFc':tot,\n",
    "            'dataType':datatype, 'pageNo':npage, 'numOfRows':nrow}\n",
    "    try:\n",
    "        r = requests.get(endpoint+'/'+'getEqkMsg', params=params)\n",
    "    except:\n",
    "        print('기상청 api 호출에 오류 발생')\n",
    "        sys.exit(1)\n",
    "\n",
    "    if r.status_code == 200:\n",
    "        try:\n",
    "            res = json.loads(r.text).get('response')\n",
    "            rcode = res.get('header')['resultCode']\n",
    "            print('기상청 api 호출 성공 (API result code:',rcode+')')\n",
    "        except:\n",
    "            print('통보문 데이터를 불러오는데 실패했습니다.')\n",
    "            sys.exit(1)\n",
    "\n",
    "        if rcode == '00':\n",
    "            rescount = res.get('body')['totalCount']\n",
    "            rrows = int(res.get('body')['numOfRows'])\n",
    "            rpages = (rescount//int(nrow)+1)\n",
    "            if gettoday:\n",
    "                print('오늘은 지진 통보가',rescount,'개 있습니다.')\n",
    "            else:\n",
    "                print('조회기간 동안 지진 통보는 총 ',rescount,'개 입니다.')\n",
    "        elif rcode == '03':\n",
    "            if gettoday:\n",
    "                print('오늘은 지진 통보가 없습니다.')\n",
    "            else:\n",
    "                print('조회기간 동안 지진 통보가 없습니다.')\n",
    "\n",
    "    if r.status_code != 200:\n",
    "        print('기상청 api 호출 실패 code:',r.status_code)\n",
    "        sys.exit(1)\n",
    "\n",
    "    return rescount"
   ]
  },
  {
   "cell_type": "code",
   "execution_count": 5,
   "metadata": {},
   "outputs": [],
   "source": [
    "def eqk_data():\n",
    "    global eqk_list\n",
    "    eqk_dict = {}\n",
    "    eqk_list = []\n",
    "    for i in range(0, rpages):\n",
    "        try:\n",
    "            r = get_eqkmsg(str(i+1))\n",
    "            raw = r.get('body').get('items')['item']\n",
    "        except:\n",
    "            print('지진 통보문 목록 불러오기 실패')\n",
    "            break\n",
    "        for j in range(0, len(raw)):\n",
    "            eqk_dict = {}\n",
    "            data = raw[j]\n",
    "            eqk_dict['id'] = eqkt+'-'+str(i)+str(j)\n",
    "            eqk_dict['day'] = str(data.get('tmEqk'))[0:7]\n",
    "            eqk_dict['eqkt'] = str(data.get('tmEqk'))[8:14]\n",
    "            eqk_dict['fct'] = str(data.get('tmFc'))[8:12]\n",
    "            eqk_dict['mt'] = data.get('mt')\n",
    "            eqk_dict['loc'] = data.get('loc')\n",
    "            eqk_dict['lat'] = data.get('lat')\n",
    "            eqk_dict['lon'] = data.get('lon')\n",
    "            eqk_dict['mapURL'] = data.get('img')\n",
    "            eqk_dict['fctype'] = data.get('fcTp')\n",
    "            eqk_list.append(eqk_dict)\n",
    "        time.sleep(1)\n",
    "\n",
    "    pdcol = eqk_list[0].keys()\n",
    "    eqk_df = pd.DataFrame(columns=pdcol, data=[eqk_list[i].values() for i in range(0,len(eqk_list))])\n",
    "    return eqk_df"
   ]
  },
  {
   "cell_type": "code",
   "execution_count": 13,
   "metadata": {},
   "outputs": [],
   "source": [
    "def main():\n",
    "    try:\n",
    "        eqkmsg_count(gettoday=True)\n",
    "        eqk_data()\n",
    "    except:\n",
    "        print('end')"
   ]
  },
  {
   "cell_type": "code",
   "execution_count": 14,
   "metadata": {},
   "outputs": [
    {
     "name": "stdout",
     "output_type": "stream",
     "text": [
      "오늘의 지진 통보를 검색합니다.\n",
      "기상청 api 호출 성공 (API result code: 03)\n",
      "오늘은 지진 통보가 없습니다.\n",
      "end\n"
     ]
    }
   ],
   "source": [
    "if __name__ == '__main__':\n",
    "    main()"
   ]
  }
 ],
 "metadata": {
  "interpreter": {
   "hash": "b3ba2566441a7c06988d0923437866b63cedc61552a5af99d1f4fb67d367b25f"
  },
  "kernelspec": {
   "display_name": "Python 3.8.5 ('base')",
   "language": "python",
   "name": "python3"
  },
  "language_info": {
   "codemirror_mode": {
    "name": "ipython",
    "version": 3
   },
   "file_extension": ".py",
   "mimetype": "text/x-python",
   "name": "python",
   "nbconvert_exporter": "python",
   "pygments_lexer": "ipython3",
   "version": "3.8.5"
  },
  "orig_nbformat": 4
 },
 "nbformat": 4,
 "nbformat_minor": 2
}
