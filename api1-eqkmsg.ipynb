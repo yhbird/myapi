{
 "cells": [
  {
   "cell_type": "code",
   "execution_count": 5,
   "metadata": {},
   "outputs": [],
   "source": [
    "import requests\n",
    "import json\n",
    "from datetime import datetime"
   ]
  },
  {
   "cell_type": "code",
   "execution_count": 58,
   "metadata": {},
   "outputs": [],
   "source": [
    "def get_eqkmsg(fromt,tot):\n",
    "    endpoint = 'http://apis.data.go.kr/1360000/EqkInfoService'\n",
    "    mykey = 'hLgHjx4SRbAp3W6wWAgqvPqZB0dDxQlzAPhuLVz1nCYJ9WUW//16Hzz6vy/0n7rE4kB1kJ3/Ia7vxld3oid6IA=='\n",
    "    datatype = 'JSON'\n",
    "    pageno = '1'\n",
    "    rows = '10'\n",
    "    params = {'ServiceKey':mykey, 'fromTmFc':fromt, 'toTmFc':tot,\n",
    "        'dataType':datatype, 'pageNo':pageno, 'numOfRows':rows}\n",
    "    try:\n",
    "        res = requests.get(endpoint+'/'+'getEqkMsg', params)\n",
    "    except:\n",
    "        print('기상청 api를 호출하지 못했습니다.')\n",
    "    if res.status_code == 200:\n",
    "        res = json.loads(res.text).get('response')\n",
    "        print('성공적으로 api를 호출했습니다.')\n",
    "    return res"
   ]
  },
  {
   "cell_type": "code",
   "execution_count": 59,
   "metadata": {},
   "outputs": [
    {
     "name": "stdout",
     "output_type": "stream",
     "text": [
      "성공적으로 api를 호출했습니다.\n",
      "오늘의 지진 통보는 없습니다.\n"
     ]
    }
   ],
   "source": [
    "def main():\n",
    "    today = str(datetime.datetime.today())[0:10].split('-')\n",
    "    eqktime = today[0]+today[1]+today[2]\n",
    "    res = get_eqkmsg(eqktime,eqktime)\n",
    "    if res.get('header')['resultCode'] == '00':\n",
    "        print('오늘은 지진 통보가',r.get('body')['totalCount'],'번 발생했습니다.')\n",
    "    if res.get('header')['resultCode'] == '03':\n",
    "        print('오늘의 지진 통보는 없습니다.')"
   ]
  },
  {
   "cell_type": "code",
   "execution_count": 60,
   "metadata": {},
   "outputs": [
    {
     "data": {
      "text/plain": [
       "{'header': {'resultCode': '00', 'resultMsg': 'NORMAL_SERVICE'},\n",
       " 'body': {'dataType': 'JSON',\n",
       "  'items': {'item': [{'cnt': 1,\n",
       "     'fcTp': 3,\n",
       "     'img': 'http://www.weather.go.kr/repositary/image/eqk/img/eqk_img_3_20220403141919.png',\n",
       "     'inT': '최대진도 Ⅲ(경북),Ⅱ(울산)',\n",
       "     'lat': 35.69,\n",
       "     'loc': '경북 경주시 남남동쪽 22km 지역',\n",
       "     'lon': 129.35,\n",
       "     'mt': 2.0,\n",
       "     'rem': '지진 발생 인근 지역은 지진동을 느낄 수 있음. 안전에 유의하기 바람.',\n",
       "     'stnId': 108,\n",
       "     'tmEqk': 20220403141919,\n",
       "     'tmFc': 202204031423,\n",
       "     'tmSeq': 325,\n",
       "     'dep': 11},\n",
       "    {'cnt': 1,\n",
       "     'fcTp': 2,\n",
       "     'img': 'http://www.weather.go.kr/repositary/image/eqk/img/eqk_img_2_20220401045040.png',\n",
       "     'inT': '',\n",
       "     'lat': -22.73,\n",
       "     'loc': '뉴칼레도니아 누메아 동쪽 435km 해역 ',\n",
       "     'lon': 170.65,\n",
       "     'mt': 6.3,\n",
       "     'rem': '국내영향없음. 위 자료는 미지질조사소(USGS) 분석결과임.',\n",
       "     'stnId': 108,\n",
       "     'tmEqk': 20220401045040,\n",
       "     'tmFc': 202204010513,\n",
       "     'tmSeq': 318,\n",
       "     'dep': 10}]},\n",
       "  'pageNo': 1,\n",
       "  'numOfRows': 10,\n",
       "  'totalCount': 2}}"
      ]
     },
     "execution_count": 60,
     "metadata": {},
     "output_type": "execute_result"
    }
   ],
   "source": [
    "if __name__ == '__main__':\n",
    "    main()"
   ]
  },
  {
   "cell_type": "code",
   "execution_count": 62,
   "metadata": {},
   "outputs": [
    {
     "data": {
      "text/plain": [
       "'getEqkMsg'"
      ]
     },
     "execution_count": 62,
     "metadata": {},
     "output_type": "execute_result"
    }
   ],
   "source": [
    "servicelist = ['getEqkMsg','getEqkMsgList','getTsunamiMsg','getTsunamiMsgList']\n",
    "servicelist[0]"
   ]
  },
  {
   "cell_type": "code",
   "execution_count": 48,
   "metadata": {},
   "outputs": [
    {
     "name": "stdout",
     "output_type": "stream",
     "text": [
      "200\n"
     ]
    }
   ],
   "source": [
    "endpoint = 'http://apis.data.go.kr/1360000/EqkInfoService'\n",
    "mykey = mkey\n",
    "fromtime = '20220401'\n",
    "totime = '20220404'\n",
    "datatype = 'json'\n",
    "pageno = '1'\n",
    "rows = '10'\n",
    "params = {'ServiceKey':mykey, 'fromTmFc':fromtime, 'toTmFc':totime,\n",
    "    'dataType':datatype, 'pageNo':pageno, 'numOfRows':rows}\n",
    "r = requests.get(endpoint+'/'+'getEqkMsg', params=params)\n",
    "print(r.status_code)"
   ]
  },
  {
   "cell_type": "code",
   "execution_count": 49,
   "metadata": {},
   "outputs": [
    {
     "data": {
      "text/plain": [
       "'00'"
      ]
     },
     "execution_count": 49,
     "metadata": {},
     "output_type": "execute_result"
    }
   ],
   "source": [
    "r = json.loads(r.text).get('response')\n",
    "r.get('header')['resultCode']"
   ]
  },
  {
   "cell_type": "code",
   "execution_count": 51,
   "metadata": {},
   "outputs": [
    {
     "data": {
      "text/plain": [
       "2"
      ]
     },
     "execution_count": 51,
     "metadata": {},
     "output_type": "execute_result"
    }
   ],
   "source": [
    "r.get('body')['totalCount']"
   ]
  },
  {
   "cell_type": "code",
   "execution_count": 17,
   "metadata": {},
   "outputs": [
    {
     "data": {
      "text/plain": [
       "[{'cnt': 1,\n",
       "  'fcTp': 3,\n",
       "  'img': 'http://www.weather.go.kr/repositary/image/eqk/img/eqk_img_3_20220403141919.png',\n",
       "  'inT': '최대진도 Ⅲ(경북),Ⅱ(울산)',\n",
       "  'lat': 35.69,\n",
       "  'loc': '경북 경주시 남남동쪽 22km 지역',\n",
       "  'lon': 129.35,\n",
       "  'mt': 2.0,\n",
       "  'rem': '지진 발생 인근 지역은 지진동을 느낄 수 있음. 안전에 유의하기 바람.',\n",
       "  'stnId': 108,\n",
       "  'tmEqk': 20220403141919,\n",
       "  'tmFc': 202204031423,\n",
       "  'tmSeq': 325,\n",
       "  'dep': 11},\n",
       " {'cnt': 1,\n",
       "  'fcTp': 2,\n",
       "  'img': 'http://www.weather.go.kr/repositary/image/eqk/img/eqk_img_2_20220401045040.png',\n",
       "  'inT': '',\n",
       "  'lat': -22.73,\n",
       "  'loc': '뉴칼레도니아 누메아 동쪽 435km 해역 ',\n",
       "  'lon': 170.65,\n",
       "  'mt': 6.3,\n",
       "  'rem': '국내영향없음. 위 자료는 미지질조사소(USGS) 분석결과임.',\n",
       "  'stnId': 108,\n",
       "  'tmEqk': 20220401045040,\n",
       "  'tmFc': 202204010513,\n",
       "  'tmSeq': 318,\n",
       "  'dep': 10}]"
      ]
     },
     "execution_count": 17,
     "metadata": {},
     "output_type": "execute_result"
    }
   ],
   "source": [
    "r.get('body').get('items').get('item')"
   ]
  }
 ],
 "metadata": {
  "interpreter": {
   "hash": "b3ba2566441a7c06988d0923437866b63cedc61552a5af99d1f4fb67d367b25f"
  },
  "kernelspec": {
   "display_name": "Python 3.8.5 ('base')",
   "language": "python",
   "name": "python3"
  },
  "language_info": {
   "codemirror_mode": {
    "name": "ipython",
    "version": 3
   },
   "file_extension": ".py",
   "mimetype": "text/x-python",
   "name": "python",
   "nbconvert_exporter": "python",
   "pygments_lexer": "ipython3",
   "version": "3.8.5"
  },
  "orig_nbformat": 4
 },
 "nbformat": 4,
 "nbformat_minor": 2
}
