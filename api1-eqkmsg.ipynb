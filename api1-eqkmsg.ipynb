{
 "cells": [
  {
   "cell_type": "code",
   "execution_count": 121,
   "metadata": {},
   "outputs": [],
   "source": [
    "import requests\n",
    "import json\n",
    "import time\n",
    "from datetime import datetime\n",
    "\n",
    "import sys\n",
    "import pymysql\n",
    "\n",
    "import pandas as pd\n",
    "import numpy as np"
   ]
  },
  {
   "cell_type": "code",
   "execution_count": 93,
   "metadata": {},
   "outputs": [],
   "source": [
    "def get_eqkmsg(npage, nrows=10):\n",
    "        endpoint = 'http://apis.data.go.kr/1360000/EqkInfoService'\n",
    "        mykey = 'hLgHjx4SRbAp3W6wWAgqvPqZB0dDxQlzAPhuLVz1nCYJ9WUW//16Hzz6vy/0n7rE4kB1kJ3/Ia7vxld3oid6IA=='\n",
    "        datatype = 'JSON'\n",
    "        params = {'ServiceKey':mykey, 'fromTmFc':eqkt, 'toTmFc':eqkt,\n",
    "                'dataType':datatype, 'pageNo':npage, 'numOfRows':nrows}\n",
    "        r = requests.get(endpoint+'/'+'getEqkMsg', params=params)\n",
    "        res = json.loads(r.text).get('response')\n",
    "        return res"
   ]
  },
  {
   "cell_type": "code",
   "execution_count": 131,
   "metadata": {},
   "outputs": [],
   "source": [
    "def eqkmsg_count(fromt=None, tot=None, npage=1, nrow=10, gettoday=False):\n",
    "    global eqkt, rescount, rpages, rrows\n",
    "\n",
    "    if type(fromt) == int:\n",
    "        fromt = str(fromt)\n",
    "    if type(tot) == int:\n",
    "        tot = str(tot)\n",
    "    \n",
    "    today = str(datetime.today())[0:10].split('-')\n",
    "    eqkt = today[0]+today[1]+today[2]\n",
    "    if gettoday:\n",
    "        fromt, tot = eqkt, eqkt\n",
    "        npage = str(int(npage))\n",
    "        nrow = str(int(nrow))\n",
    "    endpoint = 'http://apis.data.go.kr/1360000/EqkInfoService'\n",
    "    mykey = 'hLgHjx4SRbAp3W6wWAgqvPqZB0dDxQlzAPhuLVz1nCYJ9WUW//16Hzz6vy/0n7rE4kB1kJ3/Ia7vxld3oid6IA=='\n",
    "    datatype = 'JSON'\n",
    "\n",
    "    if gettoday:\n",
    "        print ('오늘의 지진 통보를 검색합니다.')\n",
    "        params = {'ServiceKey':mykey, 'fromTmFc':eqkt, 'toTmFc':eqkt,\n",
    "            'dataType':datatype, 'pageNo':npage, 'numOfRows':nrow}\n",
    "    else:\n",
    "        print ('조회기간: '+fromt[0:4]+'년'+fromt[4:6]+'월'+fromt[6:8]+'일 ~',tot[4:6]+'월'+tot[6:8]+'일')\n",
    "        params = {'ServiceKey':mykey, 'fromTmFc':fromt, 'toTmFc':tot,\n",
    "            'dataType':datatype, 'pageNo':npage, 'numOfRows':nrow}\n",
    "    try:\n",
    "        r = requests.get(endpoint+'/'+'getEqkMsg', params=params)\n",
    "    except:\n",
    "        print('기상청 api 호출에 오류 발생')\n",
    "        sys.exit(1)\n",
    "\n",
    "    if r.status_code == 200:\n",
    "        try:\n",
    "            res = json.loads(r.text).get('response')\n",
    "            rcode = res.get('header')['resultCode']\n",
    "            print('기상청 api 호출 성공 (API result code:',rcode+')')\n",
    "        except:\n",
    "            print('통보문 데이터를 불러오는데 실패했습니다.')\n",
    "            sys.exit(1)\n",
    "\n",
    "        if rcode == '00':\n",
    "            rescount = res.get('body')['totalCount']\n",
    "            rrows = int(res.get('body')['numOfRows'])\n",
    "            rpages = (rescount//int(nrow)+1)\n",
    "            if gettoday:\n",
    "                print('오늘은 지진 통보가',rescount,'개 있습니다.')\n",
    "            else:\n",
    "                print('조회기간 동안 지진 통보는 총 ',rescount,'개 입니다.')\n",
    "        elif rcode == '03':\n",
    "            if gettoday:\n",
    "                print('오늘은 지진 통보가 없습니다.')\n",
    "            else:\n",
    "                print('조회기간 동안 지진 통보가 없습니다.')\n",
    "\n",
    "    if r.status_code != 200:\n",
    "        print('기상청 api 호출 실패 code:',r.status_code)\n",
    "        sys.exit(1)\n",
    "\n",
    "    return rescount"
   ]
  },
  {
   "cell_type": "code",
   "execution_count": 125,
   "metadata": {},
   "outputs": [
    {
     "name": "stdout",
     "output_type": "stream",
     "text": [
      "오늘의 지진 통보를 검색합니다.\n",
      "기상청 api 호출 성공 (API result code: 03)\n",
      "오늘은 지진 통보가 없습니다.\n"
     ]
    },
    {
     "data": {
      "text/plain": [
       "1"
      ]
     },
     "execution_count": 125,
     "metadata": {},
     "output_type": "execute_result"
    }
   ],
   "source": [
    "todaycount = eqkmsg_count(gettoday=True)\n",
    "todaycount"
   ]
  },
  {
   "cell_type": "code",
   "execution_count": 129,
   "metadata": {},
   "outputs": [
    {
     "name": "stdout",
     "output_type": "stream",
     "text": [
      "조회기간: 2022년04월12일 ~ 04월15일\n",
      "기상청 api 호출 성공 (API result code: 00)\n",
      "조회기간동안 지진 통보는 총  3 개 입니다.\n"
     ]
    }
   ],
   "source": [
    "eqkcount = eqkmsg_count(20220412, 20220415)"
   ]
  },
  {
   "cell_type": "code",
   "execution_count": 115,
   "metadata": {},
   "outputs": [
    {
     "data": {
      "text/plain": [
       "[{'id': '20220414-00',\n",
       "  'day': '2022041',\n",
       "  'eqkt': '091500',\n",
       "  'fct': '0940',\n",
       "  'mt': 5.0,\n",
       "  'loc': '일본 오키나와현 오키나와 서북서쪽 134km 해역',\n",
       "  'lat': 26.8,\n",
       "  'lon': 126.5,\n",
       "  'mapURL': 'http://www.weather.go.kr/repositary/image/eqk/img/eqk_img_2_20220414091500.png',\n",
       "  'fctype': 2}]"
      ]
     },
     "execution_count": 115,
     "metadata": {},
     "output_type": "execute_result"
    }
   ],
   "source": [
    "eqk_data()"
   ]
  },
  {
   "cell_type": "code",
   "execution_count": 130,
   "metadata": {},
   "outputs": [],
   "source": [
    "def eqk_data():\n",
    "    global eqk_list\n",
    "    eqk_dict = {}\n",
    "    eqk_list = []\n",
    "    for i in range(0, rpages):\n",
    "        try:\n",
    "            r = get_eqkmsg(str(i+1))\n",
    "            raw = r.get('body').get('items')['item']\n",
    "        except:\n",
    "            print('지진 통보문 목록 불러오기 실패')\n",
    "            break\n",
    "        for j in range(0, len(raw)):\n",
    "            eqk_dict = {}\n",
    "            data = raw[j]\n",
    "            eqk_dict['id'] = eqkt+'-'+str(i)+str(j)\n",
    "            eqk_dict['day'] = str(data.get('tmEqk'))[0:7]\n",
    "            eqk_dict['eqkt'] = str(data.get('tmEqk'))[8:14]\n",
    "            eqk_dict['fct'] = str(data.get('tmFc'))[8:12]\n",
    "            eqk_dict['mt'] = data.get('mt')\n",
    "            eqk_dict['loc'] = data.get('loc')\n",
    "            eqk_dict['lat'] = data.get('lat')\n",
    "            eqk_dict['lon'] = data.get('lon')\n",
    "            eqk_dict['mapURL'] = data.get('img')\n",
    "            eqk_dict['fctype'] = data.get('fcTp')\n",
    "            eqk_list.append(eqk_dict)\n",
    "        time.sleep(1)\n",
    "\n",
    "    pdcol = eqk_list[0].keys()\n",
    "    eqk_df = pd.DataFrame(columns=pdcol, data=[eqk_list[i].values() for i in range(0,len(eqk_list))])\n",
    "    return eqk_df"
   ]
  },
  {
   "cell_type": "code",
   "execution_count": null,
   "metadata": {},
   "outputs": [],
   "source": [
    "def main():\n",
    "    today = str(datetime.today())[0:10].split('-')\n",
    "    eqkt = today[0]+today[1]+today[2]\n"
   ]
  },
  {
   "cell_type": "code",
   "execution_count": 6,
   "metadata": {},
   "outputs": [
    {
     "name": "stdout",
     "output_type": "stream",
     "text": [
      "기상청 api 호출 성공 (API result code: 03)\n",
      "오늘의 지진 통보는 없습니다.\n"
     ]
    },
    {
     "ename": "NameError",
     "evalue": "name 'rescount' is not defined",
     "output_type": "error",
     "traceback": [
      "\u001b[1;31m---------------------------------------------------------------------------\u001b[0m",
      "\u001b[1;31mNameError\u001b[0m                                 Traceback (most recent call last)",
      "\u001b[1;32m<ipython-input-6-c7bc734e5e35>\u001b[0m in \u001b[0;36m<module>\u001b[1;34m\u001b[0m\n\u001b[0;32m      1\u001b[0m \u001b[1;32mif\u001b[0m \u001b[0m__name__\u001b[0m \u001b[1;33m==\u001b[0m \u001b[1;34m'__main__'\u001b[0m\u001b[1;33m:\u001b[0m\u001b[1;33m\u001b[0m\u001b[1;33m\u001b[0m\u001b[0m\n\u001b[1;32m----> 2\u001b[1;33m     \u001b[0mmain\u001b[0m\u001b[1;33m(\u001b[0m\u001b[1;33m)\u001b[0m\u001b[1;33m\u001b[0m\u001b[1;33m\u001b[0m\u001b[0m\n\u001b[0m",
      "\u001b[1;32m<ipython-input-5-dcadcc0ca521>\u001b[0m in \u001b[0;36mmain\u001b[1;34m()\u001b[0m\n\u001b[0;32m      3\u001b[0m     \u001b[0meqk_dict\u001b[0m \u001b[1;33m=\u001b[0m \u001b[1;33m{\u001b[0m\u001b[1;33m}\u001b[0m\u001b[1;33m\u001b[0m\u001b[1;33m\u001b[0m\u001b[0m\n\u001b[0;32m      4\u001b[0m     \u001b[0meqk_list\u001b[0m \u001b[1;33m=\u001b[0m \u001b[1;33m[\u001b[0m\u001b[1;33m]\u001b[0m\u001b[1;33m\u001b[0m\u001b[1;33m\u001b[0m\u001b[0m\n\u001b[1;32m----> 5\u001b[1;33m     \u001b[1;32mfor\u001b[0m \u001b[0mi\u001b[0m \u001b[1;32min\u001b[0m \u001b[0mrange\u001b[0m\u001b[1;33m(\u001b[0m\u001b[1;36m0\u001b[0m\u001b[1;33m,\u001b[0m \u001b[1;33m(\u001b[0m\u001b[0mrescount\u001b[0m\u001b[1;33m//\u001b[0m\u001b[0mint\u001b[0m\u001b[1;33m(\u001b[0m\u001b[0mnrow\u001b[0m\u001b[1;33m)\u001b[0m\u001b[1;33m)\u001b[0m\u001b[1;33m+\u001b[0m\u001b[1;36m1\u001b[0m\u001b[1;33m)\u001b[0m\u001b[1;33m:\u001b[0m\u001b[1;33m\u001b[0m\u001b[1;33m\u001b[0m\u001b[0m\n\u001b[0m\u001b[0;32m      6\u001b[0m         \u001b[1;32mtry\u001b[0m\u001b[1;33m:\u001b[0m\u001b[1;33m\u001b[0m\u001b[1;33m\u001b[0m\u001b[0m\n\u001b[0;32m      7\u001b[0m             \u001b[0mr\u001b[0m \u001b[1;33m=\u001b[0m \u001b[0mget_eqkmsg\u001b[0m\u001b[1;33m(\u001b[0m\u001b[0meqkt\u001b[0m\u001b[1;33m,\u001b[0m\u001b[0meqkt\u001b[0m\u001b[1;33m,\u001b[0m\u001b[0mstr\u001b[0m\u001b[1;33m(\u001b[0m\u001b[0mi\u001b[0m\u001b[1;33m+\u001b[0m\u001b[1;36m1\u001b[0m\u001b[1;33m)\u001b[0m\u001b[1;33m,\u001b[0m\u001b[0mnrow\u001b[0m\u001b[1;33m)\u001b[0m\u001b[1;33m\u001b[0m\u001b[1;33m\u001b[0m\u001b[0m\n",
      "\u001b[1;31mNameError\u001b[0m: name 'rescount' is not defined"
     ]
    }
   ],
   "source": [
    "if __name__ == '__main__':\n",
    "    main()"
   ]
  },
  {
   "cell_type": "code",
   "execution_count": 117,
   "metadata": {},
   "outputs": [
    {
     "name": "stdout",
     "output_type": "stream",
     "text": [
      "지진 통보문 목록 불러오기 실패\n"
     ]
    },
    {
     "ename": "IndexError",
     "evalue": "list index out of range",
     "output_type": "error",
     "traceback": [
      "\u001b[1;31m---------------------------------------------------------------------------\u001b[0m",
      "\u001b[1;31mIndexError\u001b[0m                                Traceback (most recent call last)",
      "\u001b[1;32m<ipython-input-117-f8b0d6b09826>\u001b[0m in \u001b[0;36m<module>\u001b[1;34m\u001b[0m\n\u001b[1;32m----> 1\u001b[1;33m \u001b[0meqk_data\u001b[0m\u001b[1;33m(\u001b[0m\u001b[1;33m)\u001b[0m\u001b[1;33m\u001b[0m\u001b[1;33m\u001b[0m\u001b[0m\n\u001b[0m",
      "\u001b[1;32m<ipython-input-116-764c5e708e26>\u001b[0m in \u001b[0;36meqk_data\u001b[1;34m()\u001b[0m\n\u001b[0;32m     24\u001b[0m             \u001b[0meqk_dict\u001b[0m\u001b[1;33m[\u001b[0m\u001b[1;34m'fctype'\u001b[0m\u001b[1;33m]\u001b[0m \u001b[1;33m=\u001b[0m \u001b[0mdata\u001b[0m\u001b[1;33m.\u001b[0m\u001b[0mget\u001b[0m\u001b[1;33m(\u001b[0m\u001b[1;34m'fcTp'\u001b[0m\u001b[1;33m)\u001b[0m\u001b[1;33m\u001b[0m\u001b[1;33m\u001b[0m\u001b[0m\n\u001b[0;32m     25\u001b[0m             \u001b[0meqk_list\u001b[0m\u001b[1;33m.\u001b[0m\u001b[0mappend\u001b[0m\u001b[1;33m(\u001b[0m\u001b[0meqk_dict\u001b[0m\u001b[1;33m)\u001b[0m\u001b[1;33m\u001b[0m\u001b[1;33m\u001b[0m\u001b[0m\n\u001b[1;32m---> 26\u001b[1;33m     \u001b[0mpdcol\u001b[0m \u001b[1;33m=\u001b[0m \u001b[0meqk_list\u001b[0m\u001b[1;33m[\u001b[0m\u001b[1;36m0\u001b[0m\u001b[1;33m]\u001b[0m\u001b[1;33m.\u001b[0m\u001b[0mkeys\u001b[0m\u001b[1;33m(\u001b[0m\u001b[1;33m)\u001b[0m\u001b[1;33m\u001b[0m\u001b[1;33m\u001b[0m\u001b[0m\n\u001b[0m\u001b[0;32m     27\u001b[0m     \u001b[0meqk_df\u001b[0m \u001b[1;33m=\u001b[0m \u001b[0mpd\u001b[0m\u001b[1;33m.\u001b[0m\u001b[0mDataFrame\u001b[0m\u001b[1;33m(\u001b[0m\u001b[0mcolumns\u001b[0m\u001b[1;33m=\u001b[0m\u001b[0mpdcol\u001b[0m\u001b[1;33m,\u001b[0m \u001b[0mdata\u001b[0m\u001b[1;33m=\u001b[0m\u001b[1;33m[\u001b[0m\u001b[0meqk_list\u001b[0m\u001b[1;33m[\u001b[0m\u001b[0mi\u001b[0m\u001b[1;33m]\u001b[0m\u001b[1;33m.\u001b[0m\u001b[0mvalues\u001b[0m\u001b[1;33m(\u001b[0m\u001b[1;33m)\u001b[0m \u001b[1;32mfor\u001b[0m \u001b[0mi\u001b[0m \u001b[1;32min\u001b[0m \u001b[0mrange\u001b[0m\u001b[1;33m(\u001b[0m\u001b[1;36m0\u001b[0m\u001b[1;33m,\u001b[0m\u001b[0mlen\u001b[0m\u001b[1;33m(\u001b[0m\u001b[0meqk_list\u001b[0m\u001b[1;33m)\u001b[0m\u001b[1;33m)\u001b[0m\u001b[1;33m]\u001b[0m\u001b[1;33m)\u001b[0m\u001b[1;33m\u001b[0m\u001b[1;33m\u001b[0m\u001b[0m\n\u001b[0;32m     28\u001b[0m     \u001b[1;32mreturn\u001b[0m \u001b[0meqk_df\u001b[0m\u001b[1;33m\u001b[0m\u001b[1;33m\u001b[0m\u001b[0m\n",
      "\u001b[1;31mIndexError\u001b[0m: list index out of range"
     ]
    }
   ],
   "source": [
    "eqk_data()"
   ]
  },
  {
   "cell_type": "code",
   "execution_count": 83,
   "metadata": {},
   "outputs": [],
   "source": [
    "pdcol = eqk_list[0].keys()"
   ]
  },
  {
   "cell_type": "code",
   "execution_count": 72,
   "metadata": {},
   "outputs": [
    {
     "name": "stdout",
     "output_type": "stream",
     "text": [
      "지진 통보문 목록 불러오기 실패\n",
      "[]\n"
     ]
    }
   ],
   "source": [
    "eqk_data()"
   ]
  },
  {
   "cell_type": "code",
   "execution_count": 84,
   "metadata": {},
   "outputs": [
    {
     "data": {
      "text/html": [
       "<div>\n",
       "<style scoped>\n",
       "    .dataframe tbody tr th:only-of-type {\n",
       "        vertical-align: middle;\n",
       "    }\n",
       "\n",
       "    .dataframe tbody tr th {\n",
       "        vertical-align: top;\n",
       "    }\n",
       "\n",
       "    .dataframe thead th {\n",
       "        text-align: right;\n",
       "    }\n",
       "</style>\n",
       "<table border=\"1\" class=\"dataframe\">\n",
       "  <thead>\n",
       "    <tr style=\"text-align: right;\">\n",
       "      <th></th>\n",
       "      <th>id</th>\n",
       "      <th>day</th>\n",
       "      <th>eqkt</th>\n",
       "      <th>fct</th>\n",
       "      <th>mt</th>\n",
       "      <th>loc</th>\n",
       "      <th>lat</th>\n",
       "      <th>lon</th>\n",
       "      <th>mapURL</th>\n",
       "      <th>fctype</th>\n",
       "    </tr>\n",
       "  </thead>\n",
       "  <tbody>\n",
       "    <tr>\n",
       "      <th>0</th>\n",
       "      <td>20220414-00</td>\n",
       "      <td>2022041</td>\n",
       "      <td>091500</td>\n",
       "      <td>0940</td>\n",
       "      <td>5.0</td>\n",
       "      <td>일본 오키나와현 오키나와 서북서쪽 134km 해역</td>\n",
       "      <td>26.8</td>\n",
       "      <td>126.5</td>\n",
       "      <td>http://www.weather.go.kr/repositary/image/eqk/...</td>\n",
       "      <td>2</td>\n",
       "    </tr>\n",
       "  </tbody>\n",
       "</table>\n",
       "</div>"
      ],
      "text/plain": [
       "            id      day    eqkt   fct   mt                          loc   lat  \\\n",
       "0  20220414-00  2022041  091500  0940  5.0  일본 오키나와현 오키나와 서북서쪽 134km 해역  26.8   \n",
       "\n",
       "     lon                                             mapURL  fctype  \n",
       "0  126.5  http://www.weather.go.kr/repositary/image/eqk/...       2  "
      ]
     },
     "execution_count": 84,
     "metadata": {},
     "output_type": "execute_result"
    }
   ],
   "source": [
    "pdcol = eqk_list[0].keys()\n",
    "pd.DataFrame(columns=pdcol, data=[eqk_list[i].values() for i in range(0,len(eqk_list))])"
   ]
  },
  {
   "cell_type": "markdown",
   "metadata": {},
   "source": [
    "```mysql\n",
    "CREATE DATABASE api1;\n",
    "USE api1;\n",
    "```\n",
    "\n",
    "```mysql\n",
    "CREATE TABLE dailyeqkinfo (id VARCHAR(255), day VARCHAR(255), eqkt INTEGER, fct INTEGER, mt DEMICAL(5,1), loc VARCHAR(255), lat DEMICAL(5,2), lon DEMICAL(5,2), mapURL VARCHAR(255), fctype VARCHAR(255), PRIMARY KEY(id)) ENGINE=InnoDB DEFAULT CHARSET='utf8';\n",
    "```\n",
    "\n",
    "```mysql\n",
    "CREATE TABLE eqkfcinfo (fctype VARCHAR(255), fcname VARCHAR(255), PRIMARY KEY(fctype)) ENGINE=InnoDB DEFAULT CHARSET='utf8';\n",
    "```"
   ]
  },
  {
   "cell_type": "code",
   "execution_count": 95,
   "metadata": {},
   "outputs": [
    {
     "data": {
      "text/plain": [
       "'id, day, eqkt, fct, mt, loc, lat, lon, mapURL, fctype'"
      ]
     },
     "execution_count": 95,
     "metadata": {},
     "output_type": "execute_result"
    }
   ],
   "source": [
    "table = 'dailyeqkinfo'\n",
    "col = ', '.join(eqk_list[0].keys())\n",
    "place_holder = ', '.join(['%s']*len(eqk_list[0].keys()))\n",
    "key_holder = ', '.join([i + '=%s' for i in eqk_list[0].keys()])\n",
    "col"
   ]
  },
  {
   "cell_type": "code",
   "execution_count": 134,
   "metadata": {},
   "outputs": [
    {
     "data": {
      "text/plain": [
       "'INSERT INTO dailyeqkinfo (id, day, eqkt, fct, mt, loc, lat, lon, mapURL, fctype) VALUES (%s, %s, %s, %s, %s, %s, %s, %s, %s, %s) ON DUPLICATE KEY UPDATE id=%s, day=%s, eqkt=%s, fct=%s, mt=%s, loc=%s, lat=%s, lon=%s, mapURL=%s, fctype=%s'"
      ]
     },
     "execution_count": 134,
     "metadata": {},
     "output_type": "execute_result"
    }
   ],
   "source": [
    "'INSERT INTO {} ({}) VALUES ({}) ON DUPLICATE KEY UPDATE {}'.format(table, col, place_holder, key_holder)"
   ]
  },
  {
   "cell_type": "code",
   "execution_count": 93,
   "metadata": {},
   "outputs": [
    {
     "data": {
      "text/plain": [
       "'%s, %s, %s, %s, %s, %s, %s, %s, %s, %s'"
      ]
     },
     "execution_count": 93,
     "metadata": {},
     "output_type": "execute_result"
    }
   ],
   "source": [
    "#place holder\n",
    "', '.join(['%s']*len(eqk_list[0].keys()))"
   ]
  },
  {
   "cell_type": "code",
   "execution_count": 94,
   "metadata": {},
   "outputs": [
    {
     "data": {
      "text/plain": [
       "['id=%s',\n",
       " 'day=%s',\n",
       " 'eqkt=%s',\n",
       " 'fct=%s',\n",
       " 'mt=%s',\n",
       " 'loc=%s',\n",
       " 'lat=%s',\n",
       " 'lon=%s',\n",
       " 'mapURL=%s',\n",
       " 'fctype=%s']"
      ]
     },
     "execution_count": 94,
     "metadata": {},
     "output_type": "execute_result"
    }
   ],
   "source": [
    "#key holder\n",
    "[k + '=%s' for k in eqk_list[0].keys()]"
   ]
  },
  {
   "cell_type": "code",
   "execution_count": null,
   "metadata": {},
   "outputs": [],
   "source": [
    "#DB 접속 시작\n",
    "host = 'db-1.crtxwdze1fvo.ap-northeast-2.rds.amazonaws.com'\n",
    "port = 3306\n",
    "user = 'blackbird1227'\n",
    "db = 'api1'\n",
    "pw = 'gksqls1227!'\n",
    "conn = pymysql.connect(host=host, user=user, passwd=pw, db=db, port=port, use_unicode=True, charset='utf8')\n",
    "cursor = conn.cursor()"
   ]
  },
  {
   "cell_type": "code",
   "execution_count": null,
   "metadata": {},
   "outputs": [],
   "source": [
    "#쿼리 실행\n",
    "cursor.execute(que, list(eqk_list[0].values())*2)"
   ]
  },
  {
   "cell_type": "code",
   "execution_count": 98,
   "metadata": {},
   "outputs": [
    {
     "data": {
      "text/plain": [
       "dict_values(['20220413-0', '20220413', '145628', '1500', 2.4, '경북 울진군 남남동쪽 20km 해역', 36.82, 129.47, 'http://www.weather.go.kr/repositary/image/eqk/img/eqk_img_3_20220412145628.png', 3])"
      ]
     },
     "execution_count": 98,
     "metadata": {},
     "output_type": "execute_result"
    }
   ],
   "source": [
    "cursor.fetchall()"
   ]
  },
  {
   "cell_type": "code",
   "execution_count": null,
   "metadata": {},
   "outputs": [],
   "source": [
    "#DB 접속 종료\n",
    "conn.commit()\n",
    "cursor.close()"
   ]
  }
 ],
 "metadata": {
  "interpreter": {
   "hash": "b3ba2566441a7c06988d0923437866b63cedc61552a5af99d1f4fb67d367b25f"
  },
  "kernelspec": {
   "display_name": "Python 3.8.5 ('base')",
   "language": "python",
   "name": "python3"
  },
  "language_info": {
   "codemirror_mode": {
    "name": "ipython",
    "version": 3
   },
   "file_extension": ".py",
   "mimetype": "text/x-python",
   "name": "python",
   "nbconvert_exporter": "python",
   "pygments_lexer": "ipython3",
   "version": "3.8.5"
  },
  "orig_nbformat": 4
 },
 "nbformat": 4,
 "nbformat_minor": 2
}
